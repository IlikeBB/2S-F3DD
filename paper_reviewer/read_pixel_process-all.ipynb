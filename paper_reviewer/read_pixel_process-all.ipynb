{
 "cells": [
  {
   "cell_type": "code",
   "execution_count": 1,
   "metadata": {},
   "outputs": [],
   "source": [
    "import zipfile, os, numpy as np, pickle, yaml, gc\n",
    "nii_size = 384\n",
    "datatype='3.0T'\n",
    "os.environ[\"CUDA_VISIBLE_DEVICES\"] = \"0\""
   ]
  },
  {
   "cell_type": "code",
   "execution_count": 2,
   "metadata": {},
   "outputs": [],
   "source": [
    "img_layer_path = '/ssd1/dataset_stack/MRI dataset/is0001-is0350--original_itk--image+mask/'"
   ]
  },
  {
   "cell_type": "code",
   "execution_count": 3,
   "metadata": {},
   "outputs": [],
   "source": [
    "total_path_name = sorted(os.listdir(img_layer_path))\n",
    "img_path_name = [i  for i in total_path_name if 'o.nii' in i]\n",
    "msk_path_name = [i  for i in total_path_name if 's.nii' in i]"
   ]
  },
  {
   "cell_type": "code",
   "execution_count": 4,
   "metadata": {},
   "outputs": [],
   "source": [
    "import pandas as pd\n",
    "import nibabel as nib\n",
    "from scipy import ndimage\n",
    "mri_content = []\n",
    "def load_nii(path):\n",
    "    image_o = nib.load(path)\n",
    "    if len(image_o.shape) == 4:\n",
    "            image = image_o.get_fdata()\n",
    "            width,height,queue,_ = image.shape\n",
    "            image = image[:,:,:,1]\n",
    "            image = np.reshape(image,(width,height,queue))\n",
    "    else:\n",
    "        image = image_o.get_fdata()\n",
    "    return image\n",
    "for next_i, next_s in zip(img_path_name, msk_path_name):\n",
    "    image_msg = load_nii(os.path.join(img_layer_path, next_i))\n",
    "    mask_msg = load_nii(os.path.join(img_layer_path, next_s))\n",
    "    # print(next_)\n",
    "    # print('------Image------')\n",
    "    # print('Image Intensity', \"MAX\", np.max(image_msg), \"MIN\", np.min(image_msg), \"MEAN\", np.mean(image_msg))\n",
    "    # print('------Masks------')\n",
    "    # print('Pixel', \"SUM\", np.sum(mask_msg),)\n",
    "    mri_content.append([next_i[0:-8],np.max(image_msg), np.min(image_msg), np.mean(image_msg), int(np.sum(mask_msg))] )\n",
    "    "
   ]
  },
  {
   "cell_type": "code",
   "execution_count": 5,
   "metadata": {},
   "outputs": [],
   "source": [
    "save_information = pd.DataFrame(mri_content, columns=['Test MRI','Max Image Intensity', 'Min Image Intensity', 'Mean Image Intensity', 'Mask Pixel Sum'])\n",
    "save_information.to_csv('Only Test data total(train valid test).csv', index=False)"
   ]
  }
 ],
 "metadata": {
  "interpreter": {
   "hash": "a9a9f6540bf554a35b2c82ffc2252af7952963494c5548299b5ab247ef9e2099"
  },
  "kernelspec": {
   "display_name": "Python 3.7.9 ('MNI-SGD')",
   "language": "python",
   "name": "python3"
  },
  "language_info": {
   "codemirror_mode": {
    "name": "ipython",
    "version": 3
   },
   "file_extension": ".py",
   "mimetype": "text/x-python",
   "name": "python",
   "nbconvert_exporter": "python",
   "pygments_lexer": "ipython3",
   "version": "3.7.9"
  },
  "orig_nbformat": 4
 },
 "nbformat": 4,
 "nbformat_minor": 2
}
