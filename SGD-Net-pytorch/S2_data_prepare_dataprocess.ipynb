{
 "cells": [
  {
   "cell_type": "code",
   "execution_count": 1,
   "metadata": {},
   "outputs": [],
   "source": [
    "import pandas as pd, numpy as np, os, sys, glob, nibabel as nib\n",
    "from scipy import ndimage\n"
   ]
  },
  {
   "cell_type": "code",
   "execution_count": 2,
   "metadata": {},
   "outputs": [
    {
     "data": {
      "text/plain": [
       "140"
      ]
     },
     "execution_count": 2,
     "metadata": {},
     "output_type": "execute_result"
    }
   ],
   "source": [
    "csv_path = './20211104_label_1-350.csv'\n",
    "table =  pd.read_csv(csv_path)\n",
    "table_3t = table[table['1/0: 3T/1.5T MRI']==1.0]\n",
    "table_3t_train = table_3t[table_3t['Valid data']!='V']\n",
    "table_3t_valid = table_3t[table_3t['Valid data']=='V']\n",
    "table_3t_valid = table_3t_valid[table_3t_valid['排除']!='Test data']\n",
    "len(table_3t_train)"
   ]
  },
  {
   "cell_type": "code",
   "execution_count": 3,
   "metadata": {},
   "outputs": [
    {
     "name": "stdout",
     "output_type": "stream",
     "text": [
      "(384, 384, 25)\n"
     ]
    }
   ],
   "source": [
    "mask3 = np.concatenate((np.zeros((384,384,10)), np.zeros((384,384,15))), axis=-1)\n",
    "print(mask3.shape)"
   ]
  },
  {
   "cell_type": "code",
   "execution_count": 4,
   "metadata": {},
   "outputs": [],
   "source": [
    "class nii_process:\n",
    "    def __init__(self, base_):\n",
    "        self.base_ = base_\n",
    "        self.volume = np.array([])\n",
    "    \n",
    "    def slice_normalize(self, volume):\n",
    "        # print(volume.shape)\n",
    "        img_o = np.float32(volume.copy())\n",
    "        for i in range(self.slice_n):\n",
    "            img_o = np.float32(volume[...,i].copy())\n",
    "            m = np.mean(img_o)\n",
    "            s = np.std(img_o)\n",
    "            volume[...,i] = np.divide((img_o - m), s)\n",
    "        print(np.max(volume[...,i]), np.min(volume[...,i]))\n",
    "        # volume = np.divide(volume, np.percentile(volume,98))\n",
    "        self.image = volume.astype('float32')\n",
    "\n",
    "    def normalize(self, volume):\n",
    "        img_o = np.float32(volume.copy())\n",
    "        m = np.mean(img_o)\n",
    "        s = np.std(img_o)\n",
    "        volume = np.divide((img_o - m), s)\n",
    "        self.image = volume.astype(\"float32\")\n",
    "    \n",
    "    def process_scan(self, dstype,path_img, path_msg):\n",
    "\n",
    "        image_o = nib.load(path_img)\n",
    "        masks_o = nib.load(path_msg)\n",
    "        affine = image_o.header.get_best_affine()\n",
    "\n",
    "        if len(image_o.shape) == 4:\n",
    "            image = image_o.get_fdata()\n",
    "            masks = masks_o.get_fdata()\n",
    "            width,height,queue,_ = image.shape\n",
    "            image = image[:,:,:,1]\n",
    "            image = np.reshape(image,(width,height,queue))\n",
    "            masks = np.reshape(masks,(width,height,queue))\n",
    "        else:\n",
    "            image = image_o.get_fdata()\n",
    "            masks = masks_o.get_fdata()\n",
    "        image = np.where(masks, image, image*0)\n",
    "\n",
    "        self.slice_n = image.shape[-1]\n",
    "        # self.normalize(image)\n",
    "        nii_name_slices = (os.path.split(path_img))\n",
    "        nii_name_slices = nii_name_slices[1].split('.')[0]\n",
    "        # print(nii_name_slices)\n",
    "        if image.shape[-1] !=26:\n",
    "            black_slice = np.zeros((384,384,))\n",
    "            new_image = np.concatenate((image, np.zeros((384,384, (26-image.shape[-1])))), axis=-1)\n",
    "            adjusted_seg = nib.Nifti1Image(new_image.astype(np.uint16), affine)\n",
    "            adjusted_seg.header['pixdim'] = image_o.header['pixdim']\n",
    "            # Save as NiBabel file\n",
    "            adjusted_seg.to_filename(os.path.join(self.base_, dstype,f'{nii_name_slices[0:-1]}.nii.gz'))"
   ]
  },
  {
   "cell_type": "code",
   "execution_count": 5,
   "metadata": {},
   "outputs": [
    {
     "name": "stderr",
     "output_type": "stream",
     "text": [
      "/tmp/ipykernel_9342/2168321108.py:22: RuntimeWarning: invalid value encountered in true_divide\n",
      "  volume = np.divide((img_o - m), s)\n"
     ]
    }
   ],
   "source": [
    "process_stack = ['train','valid']\n",
    "prepare_data = nii_process('./dataset/S2_data/')\n",
    "for i in process_stack:\n",
    "    _list = sorted(os.listdir(os.path.join('./dataset/original_data/', i)))\n",
    "    _len = len(_list)\n",
    "    for j in range(0, _len, 2):\n",
    "        prepare_data.process_scan(i, f'./dataset/original_data/{i}/{_list[j]}', f'./dataset/original_data/{i}/{_list[j+1]}')"
   ]
  },
  {
   "cell_type": "code",
   "execution_count": 6,
   "metadata": {},
   "outputs": [],
   "source": [
    "    def extract_stroke_area(img, seg):\n",
    "        new_array = np.where(seg, img, img*0)\n",
    "        return new_array"
   ]
  }
 ],
 "metadata": {
  "interpreter": {
   "hash": "c7173b66b0b7b9d3ef17108453430ecf43b59c5f40b531d440cd8bb0e5f91238"
  },
  "kernelspec": {
   "display_name": "Python 3.8.0 64-bit ('torch-SGD': conda)",
   "name": "python3"
  },
  "language_info": {
   "codemirror_mode": {
    "name": "ipython",
    "version": 3
   },
   "file_extension": ".py",
   "mimetype": "text/x-python",
   "name": "python",
   "nbconvert_exporter": "python",
   "pygments_lexer": "ipython3",
   "version": "3.8.0"
  },
  "orig_nbformat": 4
 },
 "nbformat": 4,
 "nbformat_minor": 2
}
